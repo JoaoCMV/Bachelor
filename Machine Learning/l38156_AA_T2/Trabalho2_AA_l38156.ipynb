{
 "cells": [
  {
   "cell_type": "markdown",
   "id": "77cbc16d",
   "metadata": {},
   "source": [
    "# Trabalho 2 - Aprendizagem Automática"
   ]
  },
  {
   "cell_type": "markdown",
   "id": "789faeac",
   "metadata": {},
   "source": [
    "###### João Verdilheiro, 38156"
   ]
  },
  {
   "cell_type": "markdown",
   "id": "1a39a28f",
   "metadata": {},
   "source": [
    "## Data Input"
   ]
  },
  {
   "cell_type": "markdown",
   "id": "20e8a6d6",
   "metadata": {},
   "source": [
    "#### Imports"
   ]
  },
  {
   "cell_type": "code",
   "execution_count": 137,
   "id": "d13a1a99",
   "metadata": {},
   "outputs": [],
   "source": [
    "import numpy as np\n",
    "import matplotlib.pyplot as plt\n",
    "import pandas as pd\n",
    "import seaborn as sb\n",
    "import matplotlib.pyplot as plt\n",
    "from sklearn.model_selection import GridSearchCV\n",
    "from sklearn import ensemble"
   ]
  },
  {
   "cell_type": "markdown",
   "id": "7ba2cfde",
   "metadata": {},
   "source": [
    "### Conjunto de treino"
   ]
  },
  {
   "cell_type": "code",
   "execution_count": 138,
   "id": "de16cf7c",
   "metadata": {},
   "outputs": [
    {
     "data": {
      "text/html": [
       "<div>\n",
       "<style scoped>\n",
       "    .dataframe tbody tr th:only-of-type {\n",
       "        vertical-align: middle;\n",
       "    }\n",
       "\n",
       "    .dataframe tbody tr th {\n",
       "        vertical-align: top;\n",
       "    }\n",
       "\n",
       "    .dataframe thead th {\n",
       "        text-align: right;\n",
       "    }\n",
       "</style>\n",
       "<table border=\"1\" class=\"dataframe\">\n",
       "  <thead>\n",
       "    <tr style=\"text-align: right;\">\n",
       "      <th></th>\n",
       "      <th>age</th>\n",
       "      <th>gender</th>\n",
       "      <th>ADC_avg</th>\n",
       "      <th>Skewness</th>\n",
       "      <th>Kurtosis</th>\n",
       "      <th>GLCM_mean1</th>\n",
       "      <th>GLCM_mean2</th>\n",
       "      <th>GLCM_var1</th>\n",
       "      <th>GLCM_var2</th>\n",
       "      <th>GLCM_energy</th>\n",
       "      <th>GLCM_entropy</th>\n",
       "      <th>GLCM_contrast</th>\n",
       "      <th>GLCM_homogenity</th>\n",
       "      <th>GLCM_correlation</th>\n",
       "      <th>GLCM_prominence</th>\n",
       "      <th>GLCM_shade</th>\n",
       "      <th>diagnosis</th>\n",
       "    </tr>\n",
       "  </thead>\n",
       "  <tbody>\n",
       "    <tr>\n",
       "      <th>0</th>\n",
       "      <td>35</td>\n",
       "      <td>1</td>\n",
       "      <td>1926.655</td>\n",
       "      <td>2.491</td>\n",
       "      <td>-0.379</td>\n",
       "      <td>16.034</td>\n",
       "      <td>15.379</td>\n",
       "      <td>28.033</td>\n",
       "      <td>30.339</td>\n",
       "      <td>0.012</td>\n",
       "      <td>4.489</td>\n",
       "      <td>13.638</td>\n",
       "      <td>0.289</td>\n",
       "      <td>0.774</td>\n",
       "      <td>-0.883</td>\n",
       "      <td>-1.300</td>\n",
       "      <td>0</td>\n",
       "    </tr>\n",
       "    <tr>\n",
       "      <th>1</th>\n",
       "      <td>35</td>\n",
       "      <td>1</td>\n",
       "      <td>1391.693</td>\n",
       "      <td>2.263</td>\n",
       "      <td>0.302</td>\n",
       "      <td>11.386</td>\n",
       "      <td>11.307</td>\n",
       "      <td>23.307</td>\n",
       "      <td>27.331</td>\n",
       "      <td>0.010</td>\n",
       "      <td>4.949</td>\n",
       "      <td>13.596</td>\n",
       "      <td>0.319</td>\n",
       "      <td>0.734</td>\n",
       "      <td>0.741</td>\n",
       "      <td>1.263</td>\n",
       "      <td>0</td>\n",
       "    </tr>\n",
       "    <tr>\n",
       "      <th>2</th>\n",
       "      <td>35</td>\n",
       "      <td>1</td>\n",
       "      <td>1665.625</td>\n",
       "      <td>2.418</td>\n",
       "      <td>0.372</td>\n",
       "      <td>13.650</td>\n",
       "      <td>13.781</td>\n",
       "      <td>23.328</td>\n",
       "      <td>31.746</td>\n",
       "      <td>0.012</td>\n",
       "      <td>4.562</td>\n",
       "      <td>21.631</td>\n",
       "      <td>0.241</td>\n",
       "      <td>0.615</td>\n",
       "      <td>0.841</td>\n",
       "      <td>1.349</td>\n",
       "      <td>0</td>\n",
       "    </tr>\n",
       "    <tr>\n",
       "      <th>3</th>\n",
       "      <td>35</td>\n",
       "      <td>1</td>\n",
       "      <td>1661.389</td>\n",
       "      <td>2.294</td>\n",
       "      <td>-0.191</td>\n",
       "      <td>13.667</td>\n",
       "      <td>14.014</td>\n",
       "      <td>9.667</td>\n",
       "      <td>11.597</td>\n",
       "      <td>0.022</td>\n",
       "      <td>3.923</td>\n",
       "      <td>18.514</td>\n",
       "      <td>0.185</td>\n",
       "      <td>0.136</td>\n",
       "      <td>0.300</td>\n",
       "      <td>1.278</td>\n",
       "      <td>0</td>\n",
       "    </tr>\n",
       "    <tr>\n",
       "      <th>4</th>\n",
       "      <td>35</td>\n",
       "      <td>1</td>\n",
       "      <td>1267.880</td>\n",
       "      <td>4.923</td>\n",
       "      <td>1.068</td>\n",
       "      <td>10.280</td>\n",
       "      <td>9.650</td>\n",
       "      <td>11.642</td>\n",
       "      <td>14.488</td>\n",
       "      <td>0.031</td>\n",
       "      <td>3.720</td>\n",
       "      <td>11.590</td>\n",
       "      <td>0.353</td>\n",
       "      <td>0.575</td>\n",
       "      <td>1.045</td>\n",
       "      <td>1.511</td>\n",
       "      <td>0</td>\n",
       "    </tr>\n",
       "  </tbody>\n",
       "</table>\n",
       "</div>"
      ],
      "text/plain": [
       "   age  gender   ADC_avg  Skewness  Kurtosis  GLCM_mean1  GLCM_mean2  \\\n",
       "0   35       1  1926.655     2.491    -0.379      16.034      15.379   \n",
       "1   35       1  1391.693     2.263     0.302      11.386      11.307   \n",
       "2   35       1  1665.625     2.418     0.372      13.650      13.781   \n",
       "3   35       1  1661.389     2.294    -0.191      13.667      14.014   \n",
       "4   35       1  1267.880     4.923     1.068      10.280       9.650   \n",
       "\n",
       "   GLCM_var1  GLCM_var2  GLCM_energy  GLCM_entropy  GLCM_contrast  \\\n",
       "0     28.033     30.339        0.012         4.489         13.638   \n",
       "1     23.307     27.331        0.010         4.949         13.596   \n",
       "2     23.328     31.746        0.012         4.562         21.631   \n",
       "3      9.667     11.597        0.022         3.923         18.514   \n",
       "4     11.642     14.488        0.031         3.720         11.590   \n",
       "\n",
       "   GLCM_homogenity  GLCM_correlation  GLCM_prominence  GLCM_shade  diagnosis  \n",
       "0            0.289             0.774           -0.883      -1.300          0  \n",
       "1            0.319             0.734            0.741       1.263          0  \n",
       "2            0.241             0.615            0.841       1.349          0  \n",
       "3            0.185             0.136            0.300       1.278          0  \n",
       "4            0.353             0.575            1.045       1.511          0  "
      ]
     },
     "execution_count": 138,
     "metadata": {},
     "output_type": "execute_result"
    }
   ],
   "source": [
    "data_train = pd.read_csv('train.csv')\n",
    "\n",
    "# mapeia a coluna relativa ao genero para que também seja utilizada no modelo\n",
    "data_train['gender'] = data_train['gender'].map({'f': 1, 'm': 0})\n",
    "\n",
    "# Drop das colunas gender slice_loc e id\n",
    "X_train = data_train.drop(['id','slice_loc'], axis=1)\n",
    "X_train.head()"
   ]
  },
  {
   "cell_type": "code",
   "execution_count": 139,
   "id": "bd78cd33",
   "metadata": {},
   "outputs": [
    {
     "data": {
      "text/html": [
       "<div>\n",
       "<style scoped>\n",
       "    .dataframe tbody tr th:only-of-type {\n",
       "        vertical-align: middle;\n",
       "    }\n",
       "\n",
       "    .dataframe tbody tr th {\n",
       "        vertical-align: top;\n",
       "    }\n",
       "\n",
       "    .dataframe thead th {\n",
       "        text-align: right;\n",
       "    }\n",
       "</style>\n",
       "<table border=\"1\" class=\"dataframe\">\n",
       "  <thead>\n",
       "    <tr style=\"text-align: right;\">\n",
       "      <th></th>\n",
       "      <th>id</th>\n",
       "      <th>age</th>\n",
       "      <th>gender</th>\n",
       "      <th>ADC_avg</th>\n",
       "      <th>Skewness</th>\n",
       "      <th>Kurtosis</th>\n",
       "      <th>GLCM_mean1</th>\n",
       "      <th>GLCM_mean2</th>\n",
       "      <th>GLCM_var1</th>\n",
       "      <th>GLCM_var2</th>\n",
       "      <th>GLCM_energy</th>\n",
       "      <th>GLCM_entropy</th>\n",
       "      <th>GLCM_contrast</th>\n",
       "      <th>GLCM_homogenity</th>\n",
       "      <th>GLCM_correlation</th>\n",
       "      <th>GLCM_prominence</th>\n",
       "      <th>GLCM_shade</th>\n",
       "      <th>diagnosis</th>\n",
       "    </tr>\n",
       "  </thead>\n",
       "  <tbody>\n",
       "    <tr>\n",
       "      <th>count</th>\n",
       "      <td>1360.000000</td>\n",
       "      <td>1360.000000</td>\n",
       "      <td>1360.000000</td>\n",
       "      <td>1360.000000</td>\n",
       "      <td>1360.000000</td>\n",
       "      <td>1360.000000</td>\n",
       "      <td>1360.000000</td>\n",
       "      <td>1360.000000</td>\n",
       "      <td>1360.000000</td>\n",
       "      <td>1360.000000</td>\n",
       "      <td>1360.000000</td>\n",
       "      <td>1360.000000</td>\n",
       "      <td>1360.000000</td>\n",
       "      <td>1360.000000</td>\n",
       "      <td>1360.000000</td>\n",
       "      <td>1360.000000</td>\n",
       "      <td>1360.000000</td>\n",
       "      <td>1360.000000</td>\n",
       "    </tr>\n",
       "    <tr>\n",
       "      <th>mean</th>\n",
       "      <td>156.258088</td>\n",
       "      <td>43.684559</td>\n",
       "      <td>0.561029</td>\n",
       "      <td>1135.151374</td>\n",
       "      <td>5.172243</td>\n",
       "      <td>0.728021</td>\n",
       "      <td>9.196013</td>\n",
       "      <td>9.461174</td>\n",
       "      <td>4.390944</td>\n",
       "      <td>6.792465</td>\n",
       "      <td>0.081524</td>\n",
       "      <td>3.211708</td>\n",
       "      <td>5.308258</td>\n",
       "      <td>0.541414</td>\n",
       "      <td>0.503299</td>\n",
       "      <td>0.884012</td>\n",
       "      <td>1.234082</td>\n",
       "      <td>0.541912</td>\n",
       "    </tr>\n",
       "    <tr>\n",
       "      <th>std</th>\n",
       "      <td>56.439842</td>\n",
       "      <td>19.943512</td>\n",
       "      <td>0.496444</td>\n",
       "      <td>431.616814</td>\n",
       "      <td>4.451735</td>\n",
       "      <td>1.066231</td>\n",
       "      <td>3.681725</td>\n",
       "      <td>3.605919</td>\n",
       "      <td>5.000633</td>\n",
       "      <td>7.555451</td>\n",
       "      <td>0.071872</td>\n",
       "      <td>0.778109</td>\n",
       "      <td>5.459707</td>\n",
       "      <td>0.133020</td>\n",
       "      <td>0.174293</td>\n",
       "      <td>0.982252</td>\n",
       "      <td>1.382966</td>\n",
       "      <td>0.498424</td>\n",
       "    </tr>\n",
       "    <tr>\n",
       "      <th>min</th>\n",
       "      <td>55.000000</td>\n",
       "      <td>1.000000</td>\n",
       "      <td>0.000000</td>\n",
       "      <td>282.689000</td>\n",
       "      <td>1.466000</td>\n",
       "      <td>-4.750000</td>\n",
       "      <td>2.087000</td>\n",
       "      <td>2.483000</td>\n",
       "      <td>0.134000</td>\n",
       "      <td>0.150000</td>\n",
       "      <td>0.008000</td>\n",
       "      <td>0.942000</td>\n",
       "      <td>0.240000</td>\n",
       "      <td>0.185000</td>\n",
       "      <td>-0.163000</td>\n",
       "      <td>-2.371000</td>\n",
       "      <td>-3.193000</td>\n",
       "      <td>0.000000</td>\n",
       "    </tr>\n",
       "    <tr>\n",
       "      <th>25%</th>\n",
       "      <td>109.750000</td>\n",
       "      <td>32.000000</td>\n",
       "      <td>0.000000</td>\n",
       "      <td>861.964750</td>\n",
       "      <td>2.918750</td>\n",
       "      <td>0.086000</td>\n",
       "      <td>6.857750</td>\n",
       "      <td>7.012750</td>\n",
       "      <td>1.142000</td>\n",
       "      <td>2.008000</td>\n",
       "      <td>0.033000</td>\n",
       "      <td>2.665500</td>\n",
       "      <td>1.748500</td>\n",
       "      <td>0.444750</td>\n",
       "      <td>0.394000</td>\n",
       "      <td>0.698750</td>\n",
       "      <td>1.320750</td>\n",
       "      <td>0.000000</td>\n",
       "    </tr>\n",
       "    <tr>\n",
       "      <th>50%</th>\n",
       "      <td>151.000000</td>\n",
       "      <td>49.000000</td>\n",
       "      <td>1.000000</td>\n",
       "      <td>1061.909500</td>\n",
       "      <td>3.776500</td>\n",
       "      <td>0.625000</td>\n",
       "      <td>8.593500</td>\n",
       "      <td>8.853500</td>\n",
       "      <td>2.650500</td>\n",
       "      <td>4.127000</td>\n",
       "      <td>0.056000</td>\n",
       "      <td>3.272000</td>\n",
       "      <td>3.390000</td>\n",
       "      <td>0.540000</td>\n",
       "      <td>0.527500</td>\n",
       "      <td>1.089500</td>\n",
       "      <td>1.539500</td>\n",
       "      <td>1.000000</td>\n",
       "    </tr>\n",
       "    <tr>\n",
       "      <th>75%</th>\n",
       "      <td>205.000000</td>\n",
       "      <td>60.000000</td>\n",
       "      <td>1.000000</td>\n",
       "      <td>1334.934250</td>\n",
       "      <td>5.732250</td>\n",
       "      <td>1.348250</td>\n",
       "      <td>10.894250</td>\n",
       "      <td>11.232250</td>\n",
       "      <td>5.541000</td>\n",
       "      <td>8.773000</td>\n",
       "      <td>0.106000</td>\n",
       "      <td>3.783000</td>\n",
       "      <td>7.007750</td>\n",
       "      <td>0.642000</td>\n",
       "      <td>0.628250</td>\n",
       "      <td>1.421000</td>\n",
       "      <td>1.891500</td>\n",
       "      <td>1.000000</td>\n",
       "    </tr>\n",
       "    <tr>\n",
       "      <th>max</th>\n",
       "      <td>260.000000</td>\n",
       "      <td>79.000000</td>\n",
       "      <td>1.000000</td>\n",
       "      <td>2993.487000</td>\n",
       "      <td>72.763000</td>\n",
       "      <td>7.469000</td>\n",
       "      <td>25.077000</td>\n",
       "      <td>24.621000</td>\n",
       "      <td>42.030000</td>\n",
       "      <td>57.083000</td>\n",
       "      <td>0.543000</td>\n",
       "      <td>5.141000</td>\n",
       "      <td>47.781000</td>\n",
       "      <td>0.883000</td>\n",
       "      <td>0.914000</td>\n",
       "      <td>4.584000</td>\n",
       "      <td>6.016000</td>\n",
       "      <td>1.000000</td>\n",
       "    </tr>\n",
       "  </tbody>\n",
       "</table>\n",
       "</div>"
      ],
      "text/plain": [
       "                id          age       gender      ADC_avg     Skewness  \\\n",
       "count  1360.000000  1360.000000  1360.000000  1360.000000  1360.000000   \n",
       "mean    156.258088    43.684559     0.561029  1135.151374     5.172243   \n",
       "std      56.439842    19.943512     0.496444   431.616814     4.451735   \n",
       "min      55.000000     1.000000     0.000000   282.689000     1.466000   \n",
       "25%     109.750000    32.000000     0.000000   861.964750     2.918750   \n",
       "50%     151.000000    49.000000     1.000000  1061.909500     3.776500   \n",
       "75%     205.000000    60.000000     1.000000  1334.934250     5.732250   \n",
       "max     260.000000    79.000000     1.000000  2993.487000    72.763000   \n",
       "\n",
       "          Kurtosis   GLCM_mean1   GLCM_mean2    GLCM_var1    GLCM_var2  \\\n",
       "count  1360.000000  1360.000000  1360.000000  1360.000000  1360.000000   \n",
       "mean      0.728021     9.196013     9.461174     4.390944     6.792465   \n",
       "std       1.066231     3.681725     3.605919     5.000633     7.555451   \n",
       "min      -4.750000     2.087000     2.483000     0.134000     0.150000   \n",
       "25%       0.086000     6.857750     7.012750     1.142000     2.008000   \n",
       "50%       0.625000     8.593500     8.853500     2.650500     4.127000   \n",
       "75%       1.348250    10.894250    11.232250     5.541000     8.773000   \n",
       "max       7.469000    25.077000    24.621000    42.030000    57.083000   \n",
       "\n",
       "       GLCM_energy  GLCM_entropy  GLCM_contrast  GLCM_homogenity  \\\n",
       "count  1360.000000   1360.000000    1360.000000      1360.000000   \n",
       "mean      0.081524      3.211708       5.308258         0.541414   \n",
       "std       0.071872      0.778109       5.459707         0.133020   \n",
       "min       0.008000      0.942000       0.240000         0.185000   \n",
       "25%       0.033000      2.665500       1.748500         0.444750   \n",
       "50%       0.056000      3.272000       3.390000         0.540000   \n",
       "75%       0.106000      3.783000       7.007750         0.642000   \n",
       "max       0.543000      5.141000      47.781000         0.883000   \n",
       "\n",
       "       GLCM_correlation  GLCM_prominence   GLCM_shade    diagnosis  \n",
       "count       1360.000000      1360.000000  1360.000000  1360.000000  \n",
       "mean           0.503299         0.884012     1.234082     0.541912  \n",
       "std            0.174293         0.982252     1.382966     0.498424  \n",
       "min           -0.163000        -2.371000    -3.193000     0.000000  \n",
       "25%            0.394000         0.698750     1.320750     0.000000  \n",
       "50%            0.527500         1.089500     1.539500     1.000000  \n",
       "75%            0.628250         1.421000     1.891500     1.000000  \n",
       "max            0.914000         4.584000     6.016000     1.000000  "
      ]
     },
     "execution_count": 139,
     "metadata": {},
     "output_type": "execute_result"
    }
   ],
   "source": [
    "data_train.describe()"
   ]
  },
  {
   "cell_type": "code",
   "execution_count": 140,
   "id": "6d17d88d",
   "metadata": {},
   "outputs": [
    {
     "name": "stdout",
     "output_type": "stream",
     "text": [
      "diagnosis\n",
      "0    623\n",
      "1    737\n",
      "dtype: int64\n"
     ]
    }
   ],
   "source": [
    "print(data_train.groupby('diagnosis').size())"
   ]
  },
  {
   "cell_type": "code",
   "execution_count": 141,
   "id": "237363af",
   "metadata": {},
   "outputs": [
    {
     "data": {
      "image/png": "[encoded data removed]",
      "text/plain": [
       "<Figure size 432x288 with 20 Axes>"
      ]
     },
     "metadata": {
      "needs_background": "light"
     },
     "output_type": "display_data"
    }
   ],
   "source": [
    "data_train.hist()\n",
    "plt.show()"
   ]
  },
  {
   "cell_type": "markdown",
   "id": "7d4af9d7",
   "metadata": {},
   "source": [
    "Nos diferentes gráficos podemos observar as diferentes distribuições de cada atributo, sendo que existe algumas variações principalmente ao analizar o atributo gender, em que os seus valores são bastante dispares."
   ]
  },
  {
   "cell_type": "markdown",
   "id": "e36c3ce9",
   "metadata": {},
   "source": [
    "### Conjunto de Teste"
   ]
  },
  {
   "cell_type": "code",
   "execution_count": 142,
   "id": "fb4c607b",
   "metadata": {},
   "outputs": [
    {
     "data": {
      "text/html": [
       "<div>\n",
       "<style scoped>\n",
       "    .dataframe tbody tr th:only-of-type {\n",
       "        vertical-align: middle;\n",
       "    }\n",
       "\n",
       "    .dataframe tbody tr th {\n",
       "        vertical-align: top;\n",
       "    }\n",
       "\n",
       "    .dataframe thead th {\n",
       "        text-align: right;\n",
       "    }\n",
       "</style>\n",
       "<table border=\"1\" class=\"dataframe\">\n",
       "  <thead>\n",
       "    <tr style=\"text-align: right;\">\n",
       "      <th></th>\n",
       "      <th>age</th>\n",
       "      <th>gender</th>\n",
       "      <th>ADC_avg</th>\n",
       "      <th>Skewness</th>\n",
       "      <th>Kurtosis</th>\n",
       "      <th>GLCM_mean1</th>\n",
       "      <th>GLCM_mean2</th>\n",
       "      <th>GLCM_var1</th>\n",
       "      <th>GLCM_var2</th>\n",
       "      <th>GLCM_energy</th>\n",
       "      <th>GLCM_entropy</th>\n",
       "      <th>GLCM_contrast</th>\n",
       "      <th>GLCM_homogenity</th>\n",
       "      <th>GLCM_correlation</th>\n",
       "      <th>GLCM_prominence</th>\n",
       "      <th>GLCM_shade</th>\n",
       "    </tr>\n",
       "  </thead>\n",
       "  <tbody>\n",
       "    <tr>\n",
       "      <th>0</th>\n",
       "      <td>48</td>\n",
       "      <td>1</td>\n",
       "      <td>1204.118</td>\n",
       "      <td>3.054</td>\n",
       "      <td>-0.568</td>\n",
       "      <td>9.853</td>\n",
       "      <td>9.860</td>\n",
       "      <td>0.949</td>\n",
       "      <td>1.076</td>\n",
       "      <td>0.095</td>\n",
       "      <td>2.600</td>\n",
       "      <td>1.081</td>\n",
       "      <td>0.645</td>\n",
       "      <td>0.467</td>\n",
       "      <td>-0.599</td>\n",
       "      <td>-1.306</td>\n",
       "    </tr>\n",
       "    <tr>\n",
       "      <th>1</th>\n",
       "      <td>48</td>\n",
       "      <td>1</td>\n",
       "      <td>1064.387</td>\n",
       "      <td>2.343</td>\n",
       "      <td>-0.535</td>\n",
       "      <td>8.645</td>\n",
       "      <td>8.726</td>\n",
       "      <td>1.519</td>\n",
       "      <td>1.780</td>\n",
       "      <td>0.070</td>\n",
       "      <td>2.831</td>\n",
       "      <td>1.742</td>\n",
       "      <td>0.535</td>\n",
       "      <td>0.475</td>\n",
       "      <td>-0.642</td>\n",
       "      <td>-1.274</td>\n",
       "    </tr>\n",
       "    <tr>\n",
       "      <th>2</th>\n",
       "      <td>48</td>\n",
       "      <td>1</td>\n",
       "      <td>1075.514</td>\n",
       "      <td>2.152</td>\n",
       "      <td>-0.277</td>\n",
       "      <td>8.743</td>\n",
       "      <td>8.821</td>\n",
       "      <td>1.734</td>\n",
       "      <td>2.204</td>\n",
       "      <td>0.055</td>\n",
       "      <td>3.063</td>\n",
       "      <td>1.621</td>\n",
       "      <td>0.549</td>\n",
       "      <td>0.594</td>\n",
       "      <td>0.412</td>\n",
       "      <td>1.298</td>\n",
       "    </tr>\n",
       "    <tr>\n",
       "      <th>3</th>\n",
       "      <td>48</td>\n",
       "      <td>1</td>\n",
       "      <td>1233.333</td>\n",
       "      <td>2.763</td>\n",
       "      <td>0.784</td>\n",
       "      <td>9.958</td>\n",
       "      <td>10.542</td>\n",
       "      <td>1.957</td>\n",
       "      <td>2.561</td>\n",
       "      <td>0.111</td>\n",
       "      <td>2.456</td>\n",
       "      <td>1.542</td>\n",
       "      <td>0.604</td>\n",
       "      <td>0.741</td>\n",
       "      <td>1.116</td>\n",
       "      <td>1.367</td>\n",
       "    </tr>\n",
       "    <tr>\n",
       "      <th>4</th>\n",
       "      <td>48</td>\n",
       "      <td>1</td>\n",
       "      <td>1168.261</td>\n",
       "      <td>3.142</td>\n",
       "      <td>-0.147</td>\n",
       "      <td>9.565</td>\n",
       "      <td>9.641</td>\n",
       "      <td>0.941</td>\n",
       "      <td>1.100</td>\n",
       "      <td>0.099</td>\n",
       "      <td>2.534</td>\n",
       "      <td>1.293</td>\n",
       "      <td>0.601</td>\n",
       "      <td>0.370</td>\n",
       "      <td>0.672</td>\n",
       "      <td>1.370</td>\n",
       "    </tr>\n",
       "  </tbody>\n",
       "</table>\n",
       "</div>"
      ],
      "text/plain": [
       "   age  gender   ADC_avg   Skewness  Kurtosis  GLCM_mean1  GLCM_mean2  \\\n",
       "0   48       1  1204.118      3.054    -0.568       9.853       9.860   \n",
       "1   48       1  1064.387      2.343    -0.535       8.645       8.726   \n",
       "2   48       1  1075.514      2.152    -0.277       8.743       8.821   \n",
       "3   48       1  1233.333      2.763     0.784       9.958      10.542   \n",
       "4   48       1  1168.261      3.142    -0.147       9.565       9.641   \n",
       "\n",
       "   GLCM_var1  GLCM_var2  GLCM_energy  GLCM_entropy  GLCM_contrast  \\\n",
       "0      0.949      1.076        0.095         2.600          1.081   \n",
       "1      1.519      1.780        0.070         2.831          1.742   \n",
       "2      1.734      2.204        0.055         3.063          1.621   \n",
       "3      1.957      2.561        0.111         2.456          1.542   \n",
       "4      0.941      1.100        0.099         2.534          1.293   \n",
       "\n",
       "   GLCM_homogenity  GLCM_correlation  GLCM_prominence  GLCM_shade  \n",
       "0            0.645             0.467           -0.599      -1.306  \n",
       "1            0.535             0.475           -0.642      -1.274  \n",
       "2            0.549             0.594            0.412       1.298  \n",
       "3            0.604             0.741            1.116       1.367  \n",
       "4            0.601             0.370            0.672       1.370  "
      ]
     },
     "execution_count": 142,
     "metadata": {},
     "output_type": "execute_result"
    }
   ],
   "source": [
    "data_test = pd.read_csv('test.csv')\n",
    "data_test['gender'] = data_test['gender'].map({'f': 1, 'm': 0})\n",
    "\n",
    "# Drop das colunas gender slice_loc e id\n",
    "X_test = data_test.drop(['id','slice_loc'], axis=1)\n",
    "X_test.head()"
   ]
  },
  {
   "cell_type": "markdown",
   "id": "60605d86",
   "metadata": {},
   "source": [
    "## Tratamento dos dados"
   ]
  },
  {
   "cell_type": "code",
   "execution_count": 143,
   "id": "d67fc7f8",
   "metadata": {},
   "outputs": [],
   "source": [
    "# Dividir as variavéis dependentes e independentes \n",
    "\n",
    "# y_train tem o resultado esperado\n",
    "y_train = X_train['diagnosis']\n",
    "y_train = np.array(y_train)"
   ]
  },
  {
   "cell_type": "code",
   "execution_count": 144,
   "id": "bd16f276",
   "metadata": {},
   "outputs": [],
   "source": [
    "X_train = X_train.drop('diagnosis', axis = 1)\n",
    "\n",
    "# X_train contem os valores em cada coluna (s/ 'diagnosis')\n",
    "X_train = np.array(X_train)"
   ]
  },
  {
   "cell_type": "markdown",
   "id": "dd0e61f1",
   "metadata": {},
   "source": [
    "#### Standard Scaler"
   ]
  },
  {
   "cell_type": "code",
   "execution_count": 145,
   "id": "92ec921e",
   "metadata": {},
   "outputs": [],
   "source": [
    "from sklearn.preprocessing import StandardScaler\n",
    "scaler = StandardScaler()\n",
    "scaler.fit(X_train)\n",
    "X_train = scaler.transform(X_train)\n",
    "X_test = scaler.transform(X_test)"
   ]
  },
  {
   "cell_type": "markdown",
   "id": "c99da43b",
   "metadata": {},
   "source": [
    "##### Afinação de parâmetros"
   ]
  },
  {
   "cell_type": "markdown",
   "id": "cf3ac30a",
   "metadata": {},
   "source": [
    "Para afinar os diferentes parâmetros de cada modelo foi utilizado o Grid Search para que fossem testados diferentes parâmetros de forma a obter valores com boas previsões."
   ]
  },
  {
   "cell_type": "markdown",
   "id": "1878167e",
   "metadata": {},
   "source": [
    "## KN Model"
   ]
  },
  {
   "cell_type": "code",
   "execution_count": 146,
   "id": "fddf6fea",
   "metadata": {},
   "outputs": [
    {
     "data": {
      "text/plain": [
       "GridSearchCV(cv=5, estimator=KNeighborsClassifier(),\n",
       "             param_grid={'n_neighbors': [1, 5, 10, 19, 20, 21, 25, 30, 50]})"
      ]
     },
     "execution_count": 146,
     "metadata": {},
     "output_type": "execute_result"
    }
   ],
   "source": [
    "from sklearn.neighbors import KNeighborsClassifier\n",
    "clf_kn = GridSearchCV(KNeighborsClassifier(), {\n",
    "        'n_neighbors' : [1, 5, 10, 19, 20, 21, 25, 30, 50],\n",
    "}, cv = 5, return_train_score = False)\n",
    "\n",
    "clf_kn.fit(X_train, y_train)"
   ]
  },
  {
   "cell_type": "code",
   "execution_count": 147,
   "id": "030f1037",
   "metadata": {},
   "outputs": [
    {
     "data": {
      "text/html": [
       "<div>\n",
       "<style scoped>\n",
       "    .dataframe tbody tr th:only-of-type {\n",
       "        vertical-align: middle;\n",
       "    }\n",
       "\n",
       "    .dataframe tbody tr th {\n",
       "        vertical-align: top;\n",
       "    }\n",
       "\n",
       "    .dataframe thead th {\n",
       "        text-align: right;\n",
       "    }\n",
       "</style>\n",
       "<table border=\"1\" class=\"dataframe\">\n",
       "  <thead>\n",
       "    <tr style=\"text-align: right;\">\n",
       "      <th></th>\n",
       "      <th>param_n_neighbors</th>\n",
       "      <th>mean_test_score</th>\n",
       "      <th>rank_test_score</th>\n",
       "    </tr>\n",
       "  </thead>\n",
       "  <tbody>\n",
       "    <tr>\n",
       "      <th>4</th>\n",
       "      <td>20</td>\n",
       "      <td>0.699265</td>\n",
       "      <td>1</td>\n",
       "    </tr>\n",
       "    <tr>\n",
       "      <th>5</th>\n",
       "      <td>21</td>\n",
       "      <td>0.691176</td>\n",
       "      <td>2</td>\n",
       "    </tr>\n",
       "    <tr>\n",
       "      <th>3</th>\n",
       "      <td>19</td>\n",
       "      <td>0.686765</td>\n",
       "      <td>3</td>\n",
       "    </tr>\n",
       "    <tr>\n",
       "      <th>6</th>\n",
       "      <td>25</td>\n",
       "      <td>0.683824</td>\n",
       "      <td>4</td>\n",
       "    </tr>\n",
       "    <tr>\n",
       "      <th>8</th>\n",
       "      <td>50</td>\n",
       "      <td>0.680147</td>\n",
       "      <td>5</td>\n",
       "    </tr>\n",
       "    <tr>\n",
       "      <th>7</th>\n",
       "      <td>30</td>\n",
       "      <td>0.678676</td>\n",
       "      <td>6</td>\n",
       "    </tr>\n",
       "    <tr>\n",
       "      <th>1</th>\n",
       "      <td>5</td>\n",
       "      <td>0.675735</td>\n",
       "      <td>7</td>\n",
       "    </tr>\n",
       "    <tr>\n",
       "      <th>2</th>\n",
       "      <td>10</td>\n",
       "      <td>0.675735</td>\n",
       "      <td>7</td>\n",
       "    </tr>\n",
       "    <tr>\n",
       "      <th>0</th>\n",
       "      <td>1</td>\n",
       "      <td>0.657353</td>\n",
       "      <td>9</td>\n",
       "    </tr>\n",
       "  </tbody>\n",
       "</table>\n",
       "</div>"
      ],
      "text/plain": [
       "  param_n_neighbors  mean_test_score  rank_test_score\n",
       "4                20         0.699265                1\n",
       "5                21         0.691176                2\n",
       "3                19         0.686765                3\n",
       "6                25         0.683824                4\n",
       "8                50         0.680147                5\n",
       "7                30         0.678676                6\n",
       "1                 5         0.675735                7\n",
       "2                10         0.675735                7\n",
       "0                 1         0.657353                9"
      ]
     },
     "execution_count": 147,
     "metadata": {},
     "output_type": "execute_result"
    }
   ],
   "source": [
    "df = pd.DataFrame(clf_kn.cv_results_)\n",
    "df[['param_n_neighbors','mean_test_score','rank_test_score']].sort_values(by=['rank_test_score'])"
   ]
  },
  {
   "cell_type": "code",
   "execution_count": 148,
   "id": "e74f3587",
   "metadata": {},
   "outputs": [
    {
     "data": {
      "text/plain": [
       "{'n_neighbors': 20}"
      ]
     },
     "execution_count": 148,
     "metadata": {},
     "output_type": "execute_result"
    }
   ],
   "source": [
    "clf_kn.best_params_"
   ]
  },
  {
   "cell_type": "markdown",
   "id": "62b3fe45",
   "metadata": {},
   "source": [
    "##### Análise"
   ]
  },
  {
   "cell_type": "markdown",
   "id": "d47bd862",
   "metadata": {},
   "source": [
    "Sendo k = 1, a exatidão do modelo sobre o conjunto de validação é de 0.65, demonstrando um ligeiro sobre-ajustamento comparando ao desempenho no conjunto de teste (0.61), ainda assim existe um sub-ajustamento ao conjunto de treino. Com isto foi testado de novo o algoritmo, com k=5, obtendo uma exatidão de 0.67 no conjunto de validação e a mesma exatidão no conjunto de teste, continuando com um grande sub-ajustamento.\n",
    "Dos 'k' testados o melhor desempenho foi de k=20, sendo que ainda assim existe sub-ajustamento devido á baixa exatidão."
   ]
  },
  {
   "cell_type": "markdown",
   "id": "8647699b",
   "metadata": {},
   "source": [
    "## SVM"
   ]
  },
  {
   "cell_type": "code",
   "execution_count": 149,
   "id": "885e235b",
   "metadata": {},
   "outputs": [
    {
     "data": {
      "text/plain": [
       "GridSearchCV(cv=5, estimator=SVC(gamma='auto'),\n",
       "             param_grid={'C': [1, 100, 0.1], 'gamma': [0.01, 0.1, 1],\n",
       "                         'kernel': ['rbf', 'linear']})"
      ]
     },
     "execution_count": 149,
     "metadata": {},
     "output_type": "execute_result"
    }
   ],
   "source": [
    "from sklearn import svm\n",
    "clf = GridSearchCV(svm.SVC(gamma='auto'), {\n",
    "        'gamma' : [0.01, 0.1, 1],\n",
    "        'C' : [1,100, 0.1],\n",
    "        'kernel': ['rbf', 'linear']\n",
    "}, cv = 5, return_train_score = False)\n",
    "\n",
    "clf.fit(X_train, y_train)"
   ]
  },
  {
   "cell_type": "code",
   "execution_count": 150,
   "id": "7a6b5123",
   "metadata": {},
   "outputs": [
    {
     "data": {
      "text/html": [
       "<div>\n",
       "<style scoped>\n",
       "    .dataframe tbody tr th:only-of-type {\n",
       "        vertical-align: middle;\n",
       "    }\n",
       "\n",
       "    .dataframe tbody tr th {\n",
       "        vertical-align: top;\n",
       "    }\n",
       "\n",
       "    .dataframe thead th {\n",
       "        text-align: right;\n",
       "    }\n",
       "</style>\n",
       "<table border=\"1\" class=\"dataframe\">\n",
       "  <thead>\n",
       "    <tr style=\"text-align: right;\">\n",
       "      <th></th>\n",
       "      <th>param_C</th>\n",
       "      <th>param_kernel</th>\n",
       "      <th>param_gamma</th>\n",
       "      <th>mean_test_score</th>\n",
       "      <th>rank_test_score</th>\n",
       "    </tr>\n",
       "  </thead>\n",
       "  <tbody>\n",
       "    <tr>\n",
       "      <th>0</th>\n",
       "      <td>1</td>\n",
       "      <td>rbf</td>\n",
       "      <td>0.01</td>\n",
       "      <td>0.702206</td>\n",
       "      <td>1</td>\n",
       "    </tr>\n",
       "    <tr>\n",
       "      <th>14</th>\n",
       "      <td>0.1</td>\n",
       "      <td>rbf</td>\n",
       "      <td>0.1</td>\n",
       "      <td>0.683824</td>\n",
       "      <td>2</td>\n",
       "    </tr>\n",
       "    <tr>\n",
       "      <th>6</th>\n",
       "      <td>100</td>\n",
       "      <td>rbf</td>\n",
       "      <td>0.01</td>\n",
       "      <td>0.677941</td>\n",
       "      <td>3</td>\n",
       "    </tr>\n",
       "    <tr>\n",
       "      <th>1</th>\n",
       "      <td>1</td>\n",
       "      <td>linear</td>\n",
       "      <td>0.01</td>\n",
       "      <td>0.675735</td>\n",
       "      <td>4</td>\n",
       "    </tr>\n",
       "    <tr>\n",
       "      <th>3</th>\n",
       "      <td>1</td>\n",
       "      <td>linear</td>\n",
       "      <td>0.1</td>\n",
       "      <td>0.675735</td>\n",
       "      <td>4</td>\n",
       "    </tr>\n",
       "    <tr>\n",
       "      <th>5</th>\n",
       "      <td>1</td>\n",
       "      <td>linear</td>\n",
       "      <td>1</td>\n",
       "      <td>0.675735</td>\n",
       "      <td>4</td>\n",
       "    </tr>\n",
       "    <tr>\n",
       "      <th>2</th>\n",
       "      <td>1</td>\n",
       "      <td>rbf</td>\n",
       "      <td>0.1</td>\n",
       "      <td>0.675735</td>\n",
       "      <td>7</td>\n",
       "    </tr>\n",
       "    <tr>\n",
       "      <th>15</th>\n",
       "      <td>0.1</td>\n",
       "      <td>linear</td>\n",
       "      <td>0.1</td>\n",
       "      <td>0.675000</td>\n",
       "      <td>8</td>\n",
       "    </tr>\n",
       "    <tr>\n",
       "      <th>13</th>\n",
       "      <td>0.1</td>\n",
       "      <td>linear</td>\n",
       "      <td>0.01</td>\n",
       "      <td>0.675000</td>\n",
       "      <td>8</td>\n",
       "    </tr>\n",
       "    <tr>\n",
       "      <th>17</th>\n",
       "      <td>0.1</td>\n",
       "      <td>linear</td>\n",
       "      <td>1</td>\n",
       "      <td>0.675000</td>\n",
       "      <td>8</td>\n",
       "    </tr>\n",
       "    <tr>\n",
       "      <th>11</th>\n",
       "      <td>100</td>\n",
       "      <td>linear</td>\n",
       "      <td>1</td>\n",
       "      <td>0.672059</td>\n",
       "      <td>11</td>\n",
       "    </tr>\n",
       "    <tr>\n",
       "      <th>7</th>\n",
       "      <td>100</td>\n",
       "      <td>linear</td>\n",
       "      <td>0.01</td>\n",
       "      <td>0.672059</td>\n",
       "      <td>11</td>\n",
       "    </tr>\n",
       "    <tr>\n",
       "      <th>9</th>\n",
       "      <td>100</td>\n",
       "      <td>linear</td>\n",
       "      <td>0.1</td>\n",
       "      <td>0.672059</td>\n",
       "      <td>11</td>\n",
       "    </tr>\n",
       "    <tr>\n",
       "      <th>8</th>\n",
       "      <td>100</td>\n",
       "      <td>rbf</td>\n",
       "      <td>0.1</td>\n",
       "      <td>0.668382</td>\n",
       "      <td>14</td>\n",
       "    </tr>\n",
       "    <tr>\n",
       "      <th>10</th>\n",
       "      <td>100</td>\n",
       "      <td>rbf</td>\n",
       "      <td>1</td>\n",
       "      <td>0.663235</td>\n",
       "      <td>15</td>\n",
       "    </tr>\n",
       "    <tr>\n",
       "      <th>12</th>\n",
       "      <td>0.1</td>\n",
       "      <td>rbf</td>\n",
       "      <td>0.01</td>\n",
       "      <td>0.661029</td>\n",
       "      <td>16</td>\n",
       "    </tr>\n",
       "    <tr>\n",
       "      <th>4</th>\n",
       "      <td>1</td>\n",
       "      <td>rbf</td>\n",
       "      <td>1</td>\n",
       "      <td>0.658088</td>\n",
       "      <td>17</td>\n",
       "    </tr>\n",
       "    <tr>\n",
       "      <th>16</th>\n",
       "      <td>0.1</td>\n",
       "      <td>rbf</td>\n",
       "      <td>1</td>\n",
       "      <td>0.541912</td>\n",
       "      <td>18</td>\n",
       "    </tr>\n",
       "  </tbody>\n",
       "</table>\n",
       "</div>"
      ],
      "text/plain": [
       "   param_C param_kernel param_gamma  mean_test_score  rank_test_score\n",
       "0        1          rbf        0.01         0.702206                1\n",
       "14     0.1          rbf         0.1         0.683824                2\n",
       "6      100          rbf        0.01         0.677941                3\n",
       "1        1       linear        0.01         0.675735                4\n",
       "3        1       linear         0.1         0.675735                4\n",
       "5        1       linear           1         0.675735                4\n",
       "2        1          rbf         0.1         0.675735                7\n",
       "15     0.1       linear         0.1         0.675000                8\n",
       "13     0.1       linear        0.01         0.675000                8\n",
       "17     0.1       linear           1         0.675000                8\n",
       "11     100       linear           1         0.672059               11\n",
       "7      100       linear        0.01         0.672059               11\n",
       "9      100       linear         0.1         0.672059               11\n",
       "8      100          rbf         0.1         0.668382               14\n",
       "10     100          rbf           1         0.663235               15\n",
       "12     0.1          rbf        0.01         0.661029               16\n",
       "4        1          rbf           1         0.658088               17\n",
       "16     0.1          rbf           1         0.541912               18"
      ]
     },
     "execution_count": 150,
     "metadata": {},
     "output_type": "execute_result"
    }
   ],
   "source": [
    "df = pd.DataFrame(clf.cv_results_)\n",
    "df[['param_C','param_kernel', 'param_gamma','mean_test_score','rank_test_score']].sort_values(by=['rank_test_score'])"
   ]
  },
  {
   "cell_type": "code",
   "execution_count": 151,
   "id": "22affa95",
   "metadata": {},
   "outputs": [
    {
     "data": {
      "text/plain": [
       "{'C': 1, 'gamma': 0.01, 'kernel': 'rbf'}"
      ]
     },
     "execution_count": 151,
     "metadata": {},
     "output_type": "execute_result"
    }
   ],
   "source": [
    "clf.best_params_"
   ]
  },
  {
   "cell_type": "markdown",
   "id": "4c628a55",
   "metadata": {},
   "source": [
    "##### Análise"
   ]
  },
  {
   "cell_type": "markdown",
   "id": "0bdadc67",
   "metadata": {},
   "source": [
    "Para o modelo SVM, inicialmente foi definido um gamma= 0.1 e C = 0.1, no entanto a sua exatidão perante o conjunto de validação foi de apenas 0.55, demonstrando sobre-ajustamento.\n",
    "De seguida foi aumentado o C para que a complexidade do modelo não fosse demasiado baixa, obtendo os valores de gamma = 0.01, e C = 100. Passando assim a ter uma exatidão no conjunto de validação de 0.70, demonstrado uma boa exatidão, no entanto existe sub-ajustamento relativamente ao conjunto de treino."
   ]
  },
  {
   "cell_type": "markdown",
   "id": "d75ee883",
   "metadata": {},
   "source": [
    "## Decision Tree"
   ]
  },
  {
   "cell_type": "code",
   "execution_count": 152,
   "id": "ef6bf05e",
   "metadata": {},
   "outputs": [
    {
     "data": {
      "text/plain": [
       "GridSearchCV(cv=5, estimator=DecisionTreeClassifier(),\n",
       "             param_grid={'criterion': ['gini', 'entropy'],\n",
       "                         'max_depth': [None, 5, 9, 10, 11]})"
      ]
     },
     "execution_count": 152,
     "metadata": {},
     "output_type": "execute_result"
    }
   ],
   "source": [
    "from sklearn import tree\n",
    "clf_tree = GridSearchCV(tree.DecisionTreeClassifier(), {\n",
    "        'max_depth' : [None, 5, 9, 10, 11],\n",
    "        'criterion': ['gini', 'entropy']\n",
    "}, cv = 5, return_train_score = False)\n",
    "\n",
    "clf_tree.fit(X_train, y_train)"
   ]
  },
  {
   "cell_type": "code",
   "execution_count": 153,
   "id": "bc1ba612",
   "metadata": {},
   "outputs": [
    {
     "data": {
      "text/html": [
       "<div>\n",
       "<style scoped>\n",
       "    .dataframe tbody tr th:only-of-type {\n",
       "        vertical-align: middle;\n",
       "    }\n",
       "\n",
       "    .dataframe tbody tr th {\n",
       "        vertical-align: top;\n",
       "    }\n",
       "\n",
       "    .dataframe thead th {\n",
       "        text-align: right;\n",
       "    }\n",
       "</style>\n",
       "<table border=\"1\" class=\"dataframe\">\n",
       "  <thead>\n",
       "    <tr style=\"text-align: right;\">\n",
       "      <th></th>\n",
       "      <th>param_max_depth</th>\n",
       "      <th>param_criterion</th>\n",
       "      <th>mean_test_score</th>\n",
       "      <th>rank_test_score</th>\n",
       "    </tr>\n",
       "  </thead>\n",
       "  <tbody>\n",
       "    <tr>\n",
       "      <th>8</th>\n",
       "      <td>10</td>\n",
       "      <td>entropy</td>\n",
       "      <td>0.684559</td>\n",
       "      <td>1</td>\n",
       "    </tr>\n",
       "    <tr>\n",
       "      <th>6</th>\n",
       "      <td>5</td>\n",
       "      <td>entropy</td>\n",
       "      <td>0.674265</td>\n",
       "      <td>2</td>\n",
       "    </tr>\n",
       "    <tr>\n",
       "      <th>7</th>\n",
       "      <td>9</td>\n",
       "      <td>entropy</td>\n",
       "      <td>0.674265</td>\n",
       "      <td>2</td>\n",
       "    </tr>\n",
       "    <tr>\n",
       "      <th>2</th>\n",
       "      <td>9</td>\n",
       "      <td>gini</td>\n",
       "      <td>0.671324</td>\n",
       "      <td>4</td>\n",
       "    </tr>\n",
       "    <tr>\n",
       "      <th>1</th>\n",
       "      <td>5</td>\n",
       "      <td>gini</td>\n",
       "      <td>0.670588</td>\n",
       "      <td>5</td>\n",
       "    </tr>\n",
       "    <tr>\n",
       "      <th>9</th>\n",
       "      <td>11</td>\n",
       "      <td>entropy</td>\n",
       "      <td>0.648529</td>\n",
       "      <td>6</td>\n",
       "    </tr>\n",
       "    <tr>\n",
       "      <th>4</th>\n",
       "      <td>11</td>\n",
       "      <td>gini</td>\n",
       "      <td>0.647794</td>\n",
       "      <td>7</td>\n",
       "    </tr>\n",
       "    <tr>\n",
       "      <th>3</th>\n",
       "      <td>10</td>\n",
       "      <td>gini</td>\n",
       "      <td>0.647059</td>\n",
       "      <td>8</td>\n",
       "    </tr>\n",
       "    <tr>\n",
       "      <th>5</th>\n",
       "      <td>None</td>\n",
       "      <td>entropy</td>\n",
       "      <td>0.646324</td>\n",
       "      <td>9</td>\n",
       "    </tr>\n",
       "    <tr>\n",
       "      <th>0</th>\n",
       "      <td>None</td>\n",
       "      <td>gini</td>\n",
       "      <td>0.636029</td>\n",
       "      <td>10</td>\n",
       "    </tr>\n",
       "  </tbody>\n",
       "</table>\n",
       "</div>"
      ],
      "text/plain": [
       "  param_max_depth param_criterion  mean_test_score  rank_test_score\n",
       "8              10         entropy         0.684559                1\n",
       "6               5         entropy         0.674265                2\n",
       "7               9         entropy         0.674265                2\n",
       "2               9            gini         0.671324                4\n",
       "1               5            gini         0.670588                5\n",
       "9              11         entropy         0.648529                6\n",
       "4              11            gini         0.647794                7\n",
       "3              10            gini         0.647059                8\n",
       "5            None         entropy         0.646324                9\n",
       "0            None            gini         0.636029               10"
      ]
     },
     "execution_count": 153,
     "metadata": {},
     "output_type": "execute_result"
    }
   ],
   "source": [
    "df = pd.DataFrame(clf_tree.cv_results_)\n",
    "df[['param_max_depth','param_criterion','mean_test_score','rank_test_score']].sort_values(by=['rank_test_score'])"
   ]
  },
  {
   "cell_type": "code",
   "execution_count": 154,
   "id": "a536062a",
   "metadata": {},
   "outputs": [
    {
     "data": {
      "text/plain": [
       "{'criterion': 'entropy', 'max_depth': 10}"
      ]
     },
     "execution_count": 154,
     "metadata": {},
     "output_type": "execute_result"
    }
   ],
   "source": [
    "clf_tree.best_params_"
   ]
  },
  {
   "cell_type": "markdown",
   "id": "906fc5b9",
   "metadata": {},
   "source": [
    "###### Análise"
   ]
  },
  {
   "cell_type": "markdown",
   "id": "08300f30",
   "metadata": {},
   "source": [
    "O modelo desenvolvido foi inicialmente testado sem qualquer alteração de parâmetros sendo que a sua exatidão no conjunto de validação foi de 0.63, sendo que no conjunto de teste foi de 0.66, demonstrando um claro sub-ajustamento.\n",
    "Na segunda tentativa foi incluido uma profundidade máxima de 10, sendo que a exatidão no conjunto de validação acabou por ser de 0.67 e sobre o conjunto de teste continuou de 0.66, demonstrando algum equilibrio na exatidão sendo que existe ainda assim sub-ajustamento."
   ]
  },
  {
   "cell_type": "markdown",
   "id": "47d28443",
   "metadata": {},
   "source": [
    "## Gaussian Naive Bays"
   ]
  },
  {
   "cell_type": "code",
   "execution_count": 155,
   "id": "f31fb166",
   "metadata": {},
   "outputs": [
    {
     "data": {
      "text/plain": [
       "GaussianNB()"
      ]
     },
     "execution_count": 155,
     "metadata": {},
     "output_type": "execute_result"
    }
   ],
   "source": [
    "from sklearn.naive_bayes import GaussianNB\n",
    "clf_nb = GaussianNB()\n",
    "clf_nb.fit(X_train, y_train)"
   ]
  },
  {
   "cell_type": "markdown",
   "id": "b69b2f9a",
   "metadata": {},
   "source": [
    "###### Análise"
   ]
  },
  {
   "cell_type": "markdown",
   "id": "5543128e",
   "metadata": {},
   "source": [
    "Para o algoritmo Naive Bays foi utilizado o algoritmo de Gausse visto ser o mais indicado para atributos continuos. Aplicando o modelo ao conjuto de treino foi obtida uma exatidão de cerca de 0.70, sendo que que aplicando ao conjunto de teste a exatidão obtida foi de 0.64 ."
   ]
  },
  {
   "cell_type": "markdown",
   "id": "10f94c2d",
   "metadata": {},
   "source": [
    "## Random Forest"
   ]
  },
  {
   "cell_type": "code",
   "execution_count": 156,
   "id": "3ded96eb",
   "metadata": {},
   "outputs": [
    {
     "data": {
      "text/plain": [
       "GridSearchCV(cv=5, estimator=RandomForestClassifier(),\n",
       "             param_grid={'criterion': ['gini', 'entropy'],\n",
       "                         'max_depth': [None, 5, 10],\n",
       "                         'n_estimators': [150, 100]})"
      ]
     },
     "execution_count": 156,
     "metadata": {},
     "output_type": "execute_result"
    }
   ],
   "source": [
    "from sklearn.ensemble import RandomForestClassifier\n",
    "clf_rf = GridSearchCV(RandomForestClassifier(), {\n",
    "        'n_estimators' : [150, 100],\n",
    "        'max_depth' : [None, 5, 10],\n",
    "        'criterion': ['gini', 'entropy']\n",
    "}, cv = 5, return_train_score = False)\n",
    "\n",
    "clf_rf.fit(X_train, y_train)"
   ]
  },
  {
   "cell_type": "code",
   "execution_count": 157,
   "id": "50b8d6cc",
   "metadata": {},
   "outputs": [
    {
     "data": {
      "text/html": [
       "<div>\n",
       "<style scoped>\n",
       "    .dataframe tbody tr th:only-of-type {\n",
       "        vertical-align: middle;\n",
       "    }\n",
       "\n",
       "    .dataframe tbody tr th {\n",
       "        vertical-align: top;\n",
       "    }\n",
       "\n",
       "    .dataframe thead th {\n",
       "        text-align: right;\n",
       "    }\n",
       "</style>\n",
       "<table border=\"1\" class=\"dataframe\">\n",
       "  <thead>\n",
       "    <tr style=\"text-align: right;\">\n",
       "      <th></th>\n",
       "      <th>param_n_estimators</th>\n",
       "      <th>param_max_depth</th>\n",
       "      <th>param_criterion</th>\n",
       "      <th>mean_test_score</th>\n",
       "      <th>rank_test_score</th>\n",
       "    </tr>\n",
       "  </thead>\n",
       "  <tbody>\n",
       "    <tr>\n",
       "      <th>3</th>\n",
       "      <td>100</td>\n",
       "      <td>5</td>\n",
       "      <td>gini</td>\n",
       "      <td>0.701471</td>\n",
       "      <td>1</td>\n",
       "    </tr>\n",
       "    <tr>\n",
       "      <th>8</th>\n",
       "      <td>150</td>\n",
       "      <td>5</td>\n",
       "      <td>entropy</td>\n",
       "      <td>0.700735</td>\n",
       "      <td>2</td>\n",
       "    </tr>\n",
       "    <tr>\n",
       "      <th>9</th>\n",
       "      <td>100</td>\n",
       "      <td>5</td>\n",
       "      <td>entropy</td>\n",
       "      <td>0.700000</td>\n",
       "      <td>3</td>\n",
       "    </tr>\n",
       "    <tr>\n",
       "      <th>0</th>\n",
       "      <td>150</td>\n",
       "      <td>None</td>\n",
       "      <td>gini</td>\n",
       "      <td>0.699265</td>\n",
       "      <td>4</td>\n",
       "    </tr>\n",
       "    <tr>\n",
       "      <th>5</th>\n",
       "      <td>100</td>\n",
       "      <td>10</td>\n",
       "      <td>gini</td>\n",
       "      <td>0.699265</td>\n",
       "      <td>4</td>\n",
       "    </tr>\n",
       "    <tr>\n",
       "      <th>2</th>\n",
       "      <td>150</td>\n",
       "      <td>5</td>\n",
       "      <td>gini</td>\n",
       "      <td>0.697794</td>\n",
       "      <td>6</td>\n",
       "    </tr>\n",
       "    <tr>\n",
       "      <th>4</th>\n",
       "      <td>150</td>\n",
       "      <td>10</td>\n",
       "      <td>gini</td>\n",
       "      <td>0.692647</td>\n",
       "      <td>7</td>\n",
       "    </tr>\n",
       "    <tr>\n",
       "      <th>11</th>\n",
       "      <td>100</td>\n",
       "      <td>10</td>\n",
       "      <td>entropy</td>\n",
       "      <td>0.690441</td>\n",
       "      <td>8</td>\n",
       "    </tr>\n",
       "    <tr>\n",
       "      <th>7</th>\n",
       "      <td>100</td>\n",
       "      <td>None</td>\n",
       "      <td>entropy</td>\n",
       "      <td>0.688971</td>\n",
       "      <td>9</td>\n",
       "    </tr>\n",
       "    <tr>\n",
       "      <th>1</th>\n",
       "      <td>100</td>\n",
       "      <td>None</td>\n",
       "      <td>gini</td>\n",
       "      <td>0.687500</td>\n",
       "      <td>10</td>\n",
       "    </tr>\n",
       "    <tr>\n",
       "      <th>6</th>\n",
       "      <td>150</td>\n",
       "      <td>None</td>\n",
       "      <td>entropy</td>\n",
       "      <td>0.683824</td>\n",
       "      <td>11</td>\n",
       "    </tr>\n",
       "    <tr>\n",
       "      <th>10</th>\n",
       "      <td>150</td>\n",
       "      <td>10</td>\n",
       "      <td>entropy</td>\n",
       "      <td>0.683824</td>\n",
       "      <td>12</td>\n",
       "    </tr>\n",
       "  </tbody>\n",
       "</table>\n",
       "</div>"
      ],
      "text/plain": [
       "   param_n_estimators param_max_depth param_criterion  mean_test_score  \\\n",
       "3                 100               5            gini         0.701471   \n",
       "8                 150               5         entropy         0.700735   \n",
       "9                 100               5         entropy         0.700000   \n",
       "0                 150            None            gini         0.699265   \n",
       "5                 100              10            gini         0.699265   \n",
       "2                 150               5            gini         0.697794   \n",
       "4                 150              10            gini         0.692647   \n",
       "11                100              10         entropy         0.690441   \n",
       "7                 100            None         entropy         0.688971   \n",
       "1                 100            None            gini         0.687500   \n",
       "6                 150            None         entropy         0.683824   \n",
       "10                150              10         entropy         0.683824   \n",
       "\n",
       "    rank_test_score  \n",
       "3                 1  \n",
       "8                 2  \n",
       "9                 3  \n",
       "0                 4  \n",
       "5                 4  \n",
       "2                 6  \n",
       "4                 7  \n",
       "11                8  \n",
       "7                 9  \n",
       "1                10  \n",
       "6                11  \n",
       "10               12  "
      ]
     },
     "execution_count": 157,
     "metadata": {},
     "output_type": "execute_result"
    }
   ],
   "source": [
    "df = pd.DataFrame(clf_rf.cv_results_)\n",
    "df[['param_n_estimators','param_max_depth','param_criterion','mean_test_score','rank_test_score']].sort_values(by=['rank_test_score'])"
   ]
  },
  {
   "cell_type": "code",
   "execution_count": 158,
   "id": "f4a57abb",
   "metadata": {},
   "outputs": [
    {
     "data": {
      "text/plain": [
       "{'criterion': 'gini', 'max_depth': 5, 'n_estimators': 100}"
      ]
     },
     "execution_count": 158,
     "metadata": {},
     "output_type": "execute_result"
    }
   ],
   "source": [
    "clf_rf.best_params_"
   ]
  },
  {
   "cell_type": "markdown",
   "id": "64d706e3",
   "metadata": {},
   "source": [
    "###### Análise"
   ]
  },
  {
   "cell_type": "markdown",
   "id": "a4207bd3",
   "metadata": {},
   "source": [
    "Utilizando um n_estimator = 100, a exatidão do modelo aplicado ao conjunto de validação é de 0.68, demonstrando um claro sub-ajustamento.A exatidão do modelo sobre o conjunto de teste foi de 0.64, podendo assim observar algum sobre-ajustamento."
   ]
  },
  {
   "cell_type": "markdown",
   "id": "22a484f1",
   "metadata": {},
   "source": [
    "## Gradient Boosting"
   ]
  },
  {
   "cell_type": "code",
   "execution_count": 159,
   "id": "b9fef06a",
   "metadata": {},
   "outputs": [
    {
     "data": {
      "text/plain": [
       "GridSearchCV(cv=5, estimator=GradientBoostingClassifier(),\n",
       "             param_grid={'learning_rate': [0.1, 0.2, 0.3],\n",
       "                         'max_depth': [None, 5, 10], 'n_estimators': [100]})"
      ]
     },
     "execution_count": 159,
     "metadata": {},
     "output_type": "execute_result"
    }
   ],
   "source": [
    "from sklearn.ensemble import GradientBoostingClassifier\n",
    "clf_gb = GridSearchCV(GradientBoostingClassifier(), {\n",
    "        'max_depth' : [None, 5, 10],\n",
    "        'learning_rate' : [0.1, 0.2, 0.3],\n",
    "        'n_estimators' : [100],\n",
    "}, cv = 5, return_train_score = False)\n",
    "\n",
    "clf_gb.fit(X_train, y_train)"
   ]
  },
  {
   "cell_type": "code",
   "execution_count": 160,
   "id": "ac577d4c",
   "metadata": {},
   "outputs": [
    {
     "data": {
      "text/html": [
       "<div>\n",
       "<style scoped>\n",
       "    .dataframe tbody tr th:only-of-type {\n",
       "        vertical-align: middle;\n",
       "    }\n",
       "\n",
       "    .dataframe tbody tr th {\n",
       "        vertical-align: top;\n",
       "    }\n",
       "\n",
       "    .dataframe thead th {\n",
       "        text-align: right;\n",
       "    }\n",
       "</style>\n",
       "<table border=\"1\" class=\"dataframe\">\n",
       "  <thead>\n",
       "    <tr style=\"text-align: right;\">\n",
       "      <th></th>\n",
       "      <th>param_learning_rate</th>\n",
       "      <th>param_max_depth</th>\n",
       "      <th>param_n_estimators</th>\n",
       "      <th>mean_test_score</th>\n",
       "      <th>rank_test_score</th>\n",
       "    </tr>\n",
       "  </thead>\n",
       "  <tbody>\n",
       "    <tr>\n",
       "      <th>8</th>\n",
       "      <td>0.3</td>\n",
       "      <td>10</td>\n",
       "      <td>100</td>\n",
       "      <td>0.683824</td>\n",
       "      <td>1</td>\n",
       "    </tr>\n",
       "    <tr>\n",
       "      <th>1</th>\n",
       "      <td>0.1</td>\n",
       "      <td>5</td>\n",
       "      <td>100</td>\n",
       "      <td>0.679412</td>\n",
       "      <td>2</td>\n",
       "    </tr>\n",
       "    <tr>\n",
       "      <th>4</th>\n",
       "      <td>0.2</td>\n",
       "      <td>5</td>\n",
       "      <td>100</td>\n",
       "      <td>0.678676</td>\n",
       "      <td>3</td>\n",
       "    </tr>\n",
       "    <tr>\n",
       "      <th>5</th>\n",
       "      <td>0.2</td>\n",
       "      <td>10</td>\n",
       "      <td>100</td>\n",
       "      <td>0.675000</td>\n",
       "      <td>4</td>\n",
       "    </tr>\n",
       "    <tr>\n",
       "      <th>7</th>\n",
       "      <td>0.3</td>\n",
       "      <td>5</td>\n",
       "      <td>100</td>\n",
       "      <td>0.670588</td>\n",
       "      <td>5</td>\n",
       "    </tr>\n",
       "    <tr>\n",
       "      <th>2</th>\n",
       "      <td>0.1</td>\n",
       "      <td>10</td>\n",
       "      <td>100</td>\n",
       "      <td>0.668382</td>\n",
       "      <td>6</td>\n",
       "    </tr>\n",
       "    <tr>\n",
       "      <th>6</th>\n",
       "      <td>0.3</td>\n",
       "      <td>None</td>\n",
       "      <td>100</td>\n",
       "      <td>0.637500</td>\n",
       "      <td>7</td>\n",
       "    </tr>\n",
       "    <tr>\n",
       "      <th>3</th>\n",
       "      <td>0.2</td>\n",
       "      <td>None</td>\n",
       "      <td>100</td>\n",
       "      <td>0.634559</td>\n",
       "      <td>8</td>\n",
       "    </tr>\n",
       "    <tr>\n",
       "      <th>0</th>\n",
       "      <td>0.1</td>\n",
       "      <td>None</td>\n",
       "      <td>100</td>\n",
       "      <td>0.633088</td>\n",
       "      <td>9</td>\n",
       "    </tr>\n",
       "  </tbody>\n",
       "</table>\n",
       "</div>"
      ],
      "text/plain": [
       "  param_learning_rate param_max_depth param_n_estimators  mean_test_score  \\\n",
       "8                 0.3              10                100         0.683824   \n",
       "1                 0.1               5                100         0.679412   \n",
       "4                 0.2               5                100         0.678676   \n",
       "5                 0.2              10                100         0.675000   \n",
       "7                 0.3               5                100         0.670588   \n",
       "2                 0.1              10                100         0.668382   \n",
       "6                 0.3            None                100         0.637500   \n",
       "3                 0.2            None                100         0.634559   \n",
       "0                 0.1            None                100         0.633088   \n",
       "\n",
       "   rank_test_score  \n",
       "8                1  \n",
       "1                2  \n",
       "4                3  \n",
       "5                4  \n",
       "7                5  \n",
       "2                6  \n",
       "6                7  \n",
       "3                8  \n",
       "0                9  "
      ]
     },
     "execution_count": 160,
     "metadata": {},
     "output_type": "execute_result"
    }
   ],
   "source": [
    "df = pd.DataFrame(clf_gb.cv_results_)\n",
    "df[['param_learning_rate','param_max_depth','param_n_estimators','mean_test_score','rank_test_score']].sort_values(by=['rank_test_score'])"
   ]
  },
  {
   "cell_type": "code",
   "execution_count": 161,
   "id": "1b759c91",
   "metadata": {},
   "outputs": [
    {
     "data": {
      "text/plain": [
       "{'learning_rate': 0.3, 'max_depth': 10, 'n_estimators': 100}"
      ]
     },
     "execution_count": 161,
     "metadata": {},
     "output_type": "execute_result"
    }
   ],
   "source": [
    "clf_gb.best_params_"
   ]
  },
  {
   "cell_type": "markdown",
   "id": "95f6315b",
   "metadata": {},
   "source": [
    "###### Análise"
   ]
  },
  {
   "cell_type": "markdown",
   "id": "0065fe67",
   "metadata": {},
   "source": [
    "Ao utilizar o modelo de Gradient Boosting a exatidão obtida no conjunto de validação foi de 0.63, para n_estimators=100, enquanto que a exatidão segundo o conjunto de teste foi de 0.68 . Apesar de demonstrar algum sobre-ajustamento foi o melhor comité testado."
   ]
  },
  {
   "cell_type": "markdown",
   "id": "a447e973",
   "metadata": {},
   "source": [
    "## Extra Trees"
   ]
  },
  {
   "cell_type": "code",
   "execution_count": 162,
   "id": "51b87f84",
   "metadata": {},
   "outputs": [
    {
     "data": {
      "text/plain": [
       "GridSearchCV(cv=5, estimator=ExtraTreesClassifier(),\n",
       "             param_grid={'criterion': ['gini', 'entropy'],\n",
       "                         'max_depth': [None, 5, 10], 'n_estimators': [100]})"
      ]
     },
     "execution_count": 162,
     "metadata": {},
     "output_type": "execute_result"
    }
   ],
   "source": [
    "from sklearn.ensemble import ExtraTreesClassifier\n",
    "clf_et = GridSearchCV(ExtraTreesClassifier(), {\n",
    "        'max_depth' : [None, 5, 10],\n",
    "        'criterion': ['gini', 'entropy'],\n",
    "        'n_estimators' : [100],\n",
    "}, cv = 5, return_train_score = False)\n",
    "\n",
    "clf_et.fit(X_train, y_train)"
   ]
  },
  {
   "cell_type": "code",
   "execution_count": 163,
   "id": "52a6bede",
   "metadata": {},
   "outputs": [
    {
     "data": {
      "text/html": [
       "<div>\n",
       "<style scoped>\n",
       "    .dataframe tbody tr th:only-of-type {\n",
       "        vertical-align: middle;\n",
       "    }\n",
       "\n",
       "    .dataframe tbody tr th {\n",
       "        vertical-align: top;\n",
       "    }\n",
       "\n",
       "    .dataframe thead th {\n",
       "        text-align: right;\n",
       "    }\n",
       "</style>\n",
       "<table border=\"1\" class=\"dataframe\">\n",
       "  <thead>\n",
       "    <tr style=\"text-align: right;\">\n",
       "      <th></th>\n",
       "      <th>param_n_estimators</th>\n",
       "      <th>param_max_depth</th>\n",
       "      <th>param_criterion</th>\n",
       "      <th>mean_test_score</th>\n",
       "      <th>rank_test_score</th>\n",
       "    </tr>\n",
       "  </thead>\n",
       "  <tbody>\n",
       "    <tr>\n",
       "      <th>3</th>\n",
       "      <td>100</td>\n",
       "      <td>5</td>\n",
       "      <td>gini</td>\n",
       "      <td>0.701471</td>\n",
       "      <td>1</td>\n",
       "    </tr>\n",
       "    <tr>\n",
       "      <th>8</th>\n",
       "      <td>150</td>\n",
       "      <td>5</td>\n",
       "      <td>entropy</td>\n",
       "      <td>0.700735</td>\n",
       "      <td>2</td>\n",
       "    </tr>\n",
       "    <tr>\n",
       "      <th>9</th>\n",
       "      <td>100</td>\n",
       "      <td>5</td>\n",
       "      <td>entropy</td>\n",
       "      <td>0.700000</td>\n",
       "      <td>3</td>\n",
       "    </tr>\n",
       "    <tr>\n",
       "      <th>0</th>\n",
       "      <td>150</td>\n",
       "      <td>None</td>\n",
       "      <td>gini</td>\n",
       "      <td>0.699265</td>\n",
       "      <td>4</td>\n",
       "    </tr>\n",
       "    <tr>\n",
       "      <th>5</th>\n",
       "      <td>100</td>\n",
       "      <td>10</td>\n",
       "      <td>gini</td>\n",
       "      <td>0.699265</td>\n",
       "      <td>4</td>\n",
       "    </tr>\n",
       "    <tr>\n",
       "      <th>2</th>\n",
       "      <td>150</td>\n",
       "      <td>5</td>\n",
       "      <td>gini</td>\n",
       "      <td>0.697794</td>\n",
       "      <td>6</td>\n",
       "    </tr>\n",
       "    <tr>\n",
       "      <th>4</th>\n",
       "      <td>150</td>\n",
       "      <td>10</td>\n",
       "      <td>gini</td>\n",
       "      <td>0.692647</td>\n",
       "      <td>7</td>\n",
       "    </tr>\n",
       "    <tr>\n",
       "      <th>11</th>\n",
       "      <td>100</td>\n",
       "      <td>10</td>\n",
       "      <td>entropy</td>\n",
       "      <td>0.690441</td>\n",
       "      <td>8</td>\n",
       "    </tr>\n",
       "    <tr>\n",
       "      <th>7</th>\n",
       "      <td>100</td>\n",
       "      <td>None</td>\n",
       "      <td>entropy</td>\n",
       "      <td>0.688971</td>\n",
       "      <td>9</td>\n",
       "    </tr>\n",
       "    <tr>\n",
       "      <th>1</th>\n",
       "      <td>100</td>\n",
       "      <td>None</td>\n",
       "      <td>gini</td>\n",
       "      <td>0.687500</td>\n",
       "      <td>10</td>\n",
       "    </tr>\n",
       "    <tr>\n",
       "      <th>6</th>\n",
       "      <td>150</td>\n",
       "      <td>None</td>\n",
       "      <td>entropy</td>\n",
       "      <td>0.683824</td>\n",
       "      <td>11</td>\n",
       "    </tr>\n",
       "    <tr>\n",
       "      <th>10</th>\n",
       "      <td>150</td>\n",
       "      <td>10</td>\n",
       "      <td>entropy</td>\n",
       "      <td>0.683824</td>\n",
       "      <td>12</td>\n",
       "    </tr>\n",
       "  </tbody>\n",
       "</table>\n",
       "</div>"
      ],
      "text/plain": [
       "   param_n_estimators param_max_depth param_criterion  mean_test_score  \\\n",
       "3                 100               5            gini         0.701471   \n",
       "8                 150               5         entropy         0.700735   \n",
       "9                 100               5         entropy         0.700000   \n",
       "0                 150            None            gini         0.699265   \n",
       "5                 100              10            gini         0.699265   \n",
       "2                 150               5            gini         0.697794   \n",
       "4                 150              10            gini         0.692647   \n",
       "11                100              10         entropy         0.690441   \n",
       "7                 100            None         entropy         0.688971   \n",
       "1                 100            None            gini         0.687500   \n",
       "6                 150            None         entropy         0.683824   \n",
       "10                150              10         entropy         0.683824   \n",
       "\n",
       "    rank_test_score  \n",
       "3                 1  \n",
       "8                 2  \n",
       "9                 3  \n",
       "0                 4  \n",
       "5                 4  \n",
       "2                 6  \n",
       "4                 7  \n",
       "11                8  \n",
       "7                 9  \n",
       "1                10  \n",
       "6                11  \n",
       "10               12  "
      ]
     },
     "execution_count": 163,
     "metadata": {},
     "output_type": "execute_result"
    }
   ],
   "source": [
    "df = pd.DataFrame(clf_rf.cv_results_)\n",
    "df[['param_n_estimators','param_max_depth','param_criterion','mean_test_score','rank_test_score']].sort_values(by=['rank_test_score'])"
   ]
  },
  {
   "cell_type": "code",
   "execution_count": 164,
   "id": "32531b84",
   "metadata": {},
   "outputs": [
    {
     "data": {
      "text/plain": [
       "{'criterion': 'gini', 'max_depth': 5, 'n_estimators': 100}"
      ]
     },
     "execution_count": 164,
     "metadata": {},
     "output_type": "execute_result"
    }
   ],
   "source": [
    "clf_rf.best_params_"
   ]
  },
  {
   "cell_type": "markdown",
   "id": "7cd8e311",
   "metadata": {},
   "source": [
    "###### Análise"
   ]
  },
  {
   "cell_type": "markdown",
   "id": "be55cb5a",
   "metadata": {},
   "source": [
    "Utilizando o modelo Extra Trees(n_estimators = 100) podemos verificar que existe um pequeno sobre-ajustamento, sendo que a exatidão do modelo no conjunto de validação é de 0.68, sendo que no conjunto de teste é de 0.66 .No entanto verifica-se um claro sub-ajustamento."
   ]
  },
  {
   "cell_type": "markdown",
   "id": "d94604c9",
   "metadata": {},
   "source": [
    "## Análise Comparativa "
   ]
  },
  {
   "cell_type": "markdown",
   "id": "2bd14f00",
   "metadata": {},
   "source": [
    "## SVM e KNN"
   ]
  },
  {
   "cell_type": "markdown",
   "id": "2e512709",
   "metadata": {},
   "source": [
    "##### SVM (Melhor Modelo Publico, exatidão -> 0.70)"
   ]
  },
  {
   "cell_type": "markdown",
   "id": "7d9333a5",
   "metadata": {},
   "source": [
    "##### SVM (Melhor Modelo Privado, exatidão -> 0.86)"
   ]
  },
  {
   "cell_type": "markdown",
   "id": "3b5cf090",
   "metadata": {},
   "source": [
    "O modelo SVM é construido com base no Modelo Linear, adicionando atributos ao conjunto de dados, tornando possível utilizar a base do Modelo Linear. Para esta nova representação é utilizado o \"truqe do núcleo\", sendo que no caso testado foi utilizado o núcleo RBF. O núcleo RBF é manipulado com a alteração das variáveis gamma e C, sendo que aumentar estes valores traduz-se num modelo mais complexo."
   ]
  },
  {
   "cell_type": "markdown",
   "id": "f7139678",
   "metadata": {},
   "source": [
    "##### KNN (Pior Modelo, exatidão -> 0.61)"
   ]
  },
  {
   "cell_type": "markdown",
   "id": "9b2e6be1",
   "metadata": {},
   "source": [
    "O modelo KNN é construido econtrando os Kn vizinhos mais próximos, sendo que se para valores superiores a 1 a classe será a que mais se repete. Neste modelo quanto menos vizinhos forem considerados mais complexo será."
   ]
  },
  {
   "cell_type": "markdown",
   "id": "6af26039",
   "metadata": {},
   "source": [
    "##### Comparação"
   ]
  },
  {
   "cell_type": "markdown",
   "id": "8808a5cd",
   "metadata": {},
   "source": [
    "Comparando ambos os modelos, claramente que o modelo SVM tem uma exatidão superior ao modelo KNN (para o caso estudado). Para o caso em questão isto pode ser justificado pela grande quantidade de atributos o que faz com que o modelo KNN não tenha uma capacidade de previsão forte. No caso do modelo SVM, embora este seja sensível ao valor dos parâmetros basta que este sejam colocados numa escala semelhante para que o mesmo tenha um bom desempenho. Sendo assim depois de reajustar os valores obtemos um modelo SVM com uma exatidão superior aos restantes modelos.\n",
    "\n",
    "No caso dos desempenho do mesmo modelo nos quadros publicos e privados existe apenas uma diferença no tratamento dos dados, sendo que o privado tem o atributo 'gender' retirado do modelo por ser de escala diferente. Assim sendo podemos verificar a sensibilidade do modelo SVM á escala e ao valor dos parâmetros. (Este impacto do atributo 'gender' pode ser verificado no gráfico gerado no inicio do documento, ao analizar a distribuição dos diferentes atributos este claramente tem uma distribuição bastante acentuada).\n",
    "\n",
    "A diferença nos quadros relativa á exatidão dos diferentes modelos pode ser justificada pela sensibilidade que estes têm em generalizar sendo que para um conjunto de testes maior existe menos capacidade de previsão."
   ]
  }
 ],
 "metadata": {
  "kernelspec": {
   "display_name": "Python 3 (ipykernel)",
   "language": "python",
   "name": "python3"
  },
  "language_info": {
   "codemirror_mode": {
    "name": "ipython",
    "version": 3
   },
   "file_extension": ".py",
   "mimetype": "text/x-python",
   "name": "python",
   "nbconvert_exporter": "python",
   "pygments_lexer": "ipython3",
   "version": "3.9.7"
  }
 },
 "nbformat": 4,
 "nbformat_minor": 5
}
